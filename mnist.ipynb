{
 "cells": [
  {
   "cell_type": "code",
   "execution_count": null,
   "id": "054f59ce-a41a-49b6-be88-178aba719962",
   "metadata": {},
   "outputs": [],
   "source": [
    "# This code cell is to get rid of annoying tensorflow warnings\n",
    "import os\n",
    "os.environ['TF_CPP_MIN_LOG_LEVEL'] = '2'"
   ]
  },
  {
   "cell_type": "code",
   "execution_count": null,
   "id": "10cef515-e510-4f14-bef9-37a48b1a0fea",
   "metadata": {},
   "outputs": [],
   "source": [
    "# imports\n",
    "import numpy as np\n",
    "import pandas as pd\n",
    "import matplotlib.pyplot as plt\n",
    "import tensorflow as tf"
   ]
  },
  {
   "cell_type": "code",
   "execution_count": null,
   "id": "5d134fcf-268b-4051-a0ac-704facdbbbb3",
   "metadata": {},
   "outputs": [],
   "source": [
    "# reading the CSVs using pandas\n",
    "df_train = pd.read_csv(\"train.csv\")\n",
    "df_test = pd.read_csv(\"test.csv\")"
   ]
  },
  {
   "cell_type": "code",
   "execution_count": null,
   "id": "9894d59d-3396-47be-a297-ecee4a6acc4e",
   "metadata": {},
   "outputs": [],
   "source": [
    "# checking\n",
    "df_train.head()"
   ]
  },
  {
   "cell_type": "code",
   "execution_count": null,
   "id": "76e79db5-62de-47cd-a143-9d9d3bdffdc4",
   "metadata": {},
   "outputs": [],
   "source": [
    "# saving the y_train variable to train the model\n",
    "y_train = df_train[\"label\"]"
   ]
  },
  {
   "cell_type": "code",
   "execution_count": null,
   "id": "0a4d1d30-ded4-4cc5-9e2d-1418b7bc0cea",
   "metadata": {},
   "outputs": [],
   "source": [
    "# droping \"label\" attribute from df_train\n",
    "df_train = df_train.drop('label', axis=1)"
   ]
  },
  {
   "cell_type": "code",
   "execution_count": null,
   "id": "46733c7e-25cf-4a8d-9baf-bf0eeea1adb8",
   "metadata": {},
   "outputs": [],
   "source": [
    "# converting pandas dataframe to numpy arrays\n",
    "X_train = df_train.to_numpy()\n",
    "X_test = df_test.to_numpy()"
   ]
  },
  {
   "cell_type": "code",
   "execution_count": null,
   "id": "ed758b4a-94eb-4d46-a0cd-52e34eb7c1e4",
   "metadata": {},
   "outputs": [],
   "source": [
    "# dividing using 255 to get all values between 0 and 1\n",
    "X_train = X_train / 255\n",
    "X_test = X_test / 255"
   ]
  },
  {
   "cell_type": "code",
   "execution_count": null,
   "id": "7860bb43-4272-48b7-9d2e-41c679202b6f",
   "metadata": {},
   "outputs": [],
   "source": [
    "# reshaping the X_train and X_test to 28*28 pixels\n",
    "X_train = X_train.reshape(-1, 28, 28)\n",
    "X_test = X_test.reshape(-1, 28, 28)"
   ]
  },
  {
   "cell_type": "code",
   "execution_count": null,
   "id": "0424dd82-9c4d-4a6b-b00f-919e61a90df7",
   "metadata": {},
   "outputs": [],
   "source": [
    "# configuring the model\n",
    "model = tf.keras.models.Sequential([\n",
    "  tf.keras.layers.Flatten(input_shape=(28, 28)),\n",
    "  tf.keras.layers.Dense(1024, activation='relu'),\n",
    "  tf.keras.layers.Dropout(0.45),\n",
    "  tf.keras.layers.Dense(512, activation='relu'),\n",
    "  tf.keras.layers.Dropout(0.45),\n",
    "  tf.keras.layers.Dense(256, activation='relu'),\n",
    "  tf.keras.layers.Dropout(0.45),\n",
    "  tf.keras.layers.Dense(10, activation='softmax')\n",
    "])"
   ]
  },
  {
   "cell_type": "code",
   "execution_count": null,
   "id": "b83adffc-2576-45d8-a49d-8e6e27a219c5",
   "metadata": {},
   "outputs": [],
   "source": [
    "# compiling the model\n",
    "model.compile(optimizer='adamax',\n",
    "              loss='sparse_categorical_crossentropy',\n",
    "              metrics=['accuracy'])"
   ]
  },
  {
   "cell_type": "code",
   "execution_count": null,
   "id": "9de7a18b-0922-4559-8fb0-5d507aaf4b5f",
   "metadata": {},
   "outputs": [],
   "source": [
    "# training the model uisng X_train and y_train variable\n",
    "model.fit(X_train, y_train, epochs=50)"
   ]
  },
  {
   "cell_type": "code",
   "execution_count": null,
   "id": "38173696-79c0-462c-9150-008acc4651ba",
   "metadata": {},
   "outputs": [],
   "source": [
    "predicated_arr = model.predict(X_test)"
   ]
  },
  {
   "cell_type": "code",
   "execution_count": null,
   "id": "d6dcfbe6-8bf8-49aa-9bbf-989b0bf6481a",
   "metadata": {},
   "outputs": [],
   "source": [
    "ans = np.argmax(predicated_arr, axis=1)"
   ]
  },
  {
   "cell_type": "code",
   "execution_count": null,
   "id": "ab290415-fde8-43b7-a26f-92e3c8a5ae82",
   "metadata": {},
   "outputs": [],
   "source": [
    "# creating a pandas dataframe using the ans we got\n",
    "df_ans = pd.DataFrame({\"ImageId\": np.arange(1, 28001), \"Label\": ans})"
   ]
  },
  {
   "cell_type": "code",
   "execution_count": null,
   "id": "be35be0d-f9f0-4f6a-a8f5-95db77f73e28",
   "metadata": {},
   "outputs": [],
   "source": [
    "# saving the dataframe as csv fromat\n",
    "df_ans.to_csv(\"outputs/ans7.csv\", index=False)"
   ]
  },
  {
   "cell_type": "code",
   "execution_count": null,
   "id": "57d217e7-9ebf-4a6f-a1a0-dc9c44e49e46",
   "metadata": {},
   "outputs": [],
   "source": []
  }
 ],
 "metadata": {
  "kernelspec": {
   "display_name": "Python 3 (ipykernel)",
   "language": "python",
   "name": "python3"
  },
  "language_info": {
   "codemirror_mode": {
    "name": "ipython",
    "version": 3
   },
   "file_extension": ".py",
   "mimetype": "text/x-python",
   "name": "python",
   "nbconvert_exporter": "python",
   "pygments_lexer": "ipython3",
   "version": "3.9.16"
  }
 },
 "nbformat": 4,
 "nbformat_minor": 5
}
